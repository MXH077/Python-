{
 "cells": [
  {
   "cell_type": "code",
   "execution_count": null,
   "metadata": {},
   "outputs": [
    {
     "name": "stdout",
     "output_type": "stream",
     "text": [
      "Hello Eric, would you like to learn some Python today?\n"
     ]
    }
   ],
   "source": [
    "#2-3\n",
    "name = str(input(\"Enter your name: \"))\n",
    "print(\"Hello {}, would you like to learn some Python today?\".format(name))"
   ]
  },
  {
   "cell_type": "code",
   "execution_count": null,
   "metadata": {},
   "outputs": [
    {
     "name": "stdout",
     "output_type": "stream",
     "text": [
      "ERIC\n",
      "eric\n",
      "Eric\n"
     ]
    }
   ],
   "source": [
    "#2-4\n",
    "name = \"eric\"\n",
    "print(name.upper())\n",
    "print(name.lower())\n",
    "print(name.title())"
   ]
  },
  {
   "cell_type": "code",
   "execution_count": null,
   "metadata": {},
   "outputs": [
    {
     "name": "stdout",
     "output_type": "stream",
     "text": [
      "Albert Einstein once said, “A person who never made a mistake never tried anything \n",
      "new.\"\n"
     ]
    }
   ],
   "source": [
    "#2-5\n",
    "print('''Albert Einstein once said, “A person who never made a mistake never tried anything \n",
    "new.\"''')"
   ]
  },
  {
   "cell_type": "code",
   "execution_count": null,
   "metadata": {},
   "outputs": [
    {
     "name": "stdout",
     "output_type": "stream",
     "text": [
      " Albert Einstein once said, “A person who never made a mistake never tried anything \n",
      "new.”\n"
     ]
    }
   ],
   "source": [
    "#2-6\n",
    "famous_person = \"Albert Einstein\"\n",
    "message = ''' {} once said, “A person who never made a mistake never tried anything \n",
    "new.”'''\n",
    "print(message.format(famous_person))"
   ]
  },
  {
   "cell_type": "code",
   "execution_count": null,
   "metadata": {},
   "outputs": [
    {
     "name": "stdout",
     "output_type": "stream",
     "text": [
      "Eric\tSandy \n",
      "Raquel \n",
      " Eric\tSandy \n",
      "Raquel\n",
      "Eric\tSandy \n",
      "Raquel\n"
     ]
    }
   ],
   "source": [
    "#2-7\n",
    "name = \" Eric\\tSandy \\nRaquel \"\n",
    "print(name.lstrip())\n",
    "print(name.rstrip())\n",
    "print(name.strip())"
   ]
  },
  {
   "cell_type": "code",
   "execution_count": null,
   "metadata": {},
   "outputs": [
    {
     "name": "stdout",
     "output_type": "stream",
     "text": [
      "8\n",
      "8\n",
      "8\n",
      "8\n"
     ]
    }
   ],
   "source": [
    "#2-8\n",
    "print(1+7)\n",
    "print(2+6)\n",
    "print(3+5)\n",
    "print(4+4)"
   ]
  },
  {
   "cell_type": "code",
   "execution_count": null,
   "metadata": {},
   "outputs": [
    {
     "name": "stdout",
     "output_type": "stream",
     "text": [
      "13 is my favorite number\n"
     ]
    }
   ],
   "source": [
    "#2-9/10\n",
    "a=13\n",
    "message = \"{} is my favorite number\"\n",
    "print(message.format(a))\n",
    "#2024-10-20 22:15:00"
   ]
  },
  {
   "cell_type": "code",
   "execution_count": null,
   "metadata": {},
   "outputs": [
    {
     "name": "stdout",
     "output_type": "stream",
     "text": [
      "I would like to take a Motor to work.\n"
     ]
    }
   ],
   "source": [
    "#3-3\n",
    "transport = [\"car\",\"bus\",\"train\",\"boat\",\"motor\",\"bike\"]\n",
    "message = \"I would like to take a \" + transport[4].title() + \" to work.\"\n",
    "print(message)"
   ]
  },
  {
   "cell_type": "code",
   "execution_count": null,
   "metadata": {},
   "outputs": [],
   "source": []
  }
 ],
 "metadata": {
  "kernelspec": {
   "display_name": ".venv",
   "language": "python",
   "name": "python3"
  },
  "language_info": {
   "name": "python",
   "version": "3.8.10"
  }
 },
 "nbformat": 4,
 "nbformat_minor": 2
}
